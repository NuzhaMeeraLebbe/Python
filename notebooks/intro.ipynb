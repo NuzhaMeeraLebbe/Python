{
 "cells": [
  {
   "cell_type": "code",
   "execution_count": 44,
   "metadata": {},
   "outputs": [
    {
     "name": "stdout",
     "output_type": "stream",
     "text": [
      "Hello World Python 3\n"
     ]
    }
   ],
   "source": [
    "print('Hello World', end=\" \")\n",
    "print('Python 3')"
   ]
  },
  {
   "cell_type": "code",
   "execution_count": 45,
   "metadata": {},
   "outputs": [
    {
     "name": "stdout",
     "output_type": "stream",
     "text": [
      "IT AMC TECH\n",
      "IT-AMC-TECH\n"
     ]
    }
   ],
   "source": [
    "print(\"IT\",\"AMC\",\"TECH\")\n",
    "print(\"IT\",\"AMC\",\"TECH\",sep=\"-\")"
   ]
  },
  {
   "cell_type": "code",
   "execution_count": 46,
   "metadata": {},
   "outputs": [
    {
     "name": "stdout",
     "output_type": "stream",
     "text": [
      "Java-Python-PHP!\n",
      "Java/Python/PHP!\n"
     ]
    }
   ],
   "source": [
    "print(\"Java\",\"Python\",\"PHP\",sep=\"-\",end=\"!\\n\")\n",
    "print(\"Java\",\"Python\",\"PHP\",sep=\"/\",end=\"!\\n\")"
   ]
  },
  {
   "cell_type": "code",
   "execution_count": 47,
   "metadata": {},
   "outputs": [
    {
     "name": "stdout",
     "output_type": "stream",
     "text": [
      "aa\n",
      "***\n",
      "*\n",
      "\n",
      "\n"
     ]
    }
   ],
   "source": [
    "print('a' * 2)\n",
    "print('*' * 3)\n",
    "print('*',end=\"\\n\" * 3)"
   ]
  },
  {
   "cell_type": "code",
   "execution_count": null,
   "metadata": {},
   "outputs": [],
   "source": []
  }
 ],
 "metadata": {
  "kernelspec": {
   "display_name": "Python 3",
   "language": "python",
   "name": "python3"
  },
  "language_info": {
   "codemirror_mode": {
    "name": "ipython",
    "version": 3
   },
   "file_extension": ".py",
   "mimetype": "text/x-python",
   "name": "python",
   "nbconvert_exporter": "python",
   "pygments_lexer": "ipython3",
   "version": "3.10.13"
  }
 },
 "nbformat": 4,
 "nbformat_minor": 2
}
